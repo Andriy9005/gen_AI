{
 "cells": [
  {
   "cell_type": "code",
   "execution_count": 1,
   "id": "81795bcf-af1e-43b4-8d98-e7a4c15938b5",
   "metadata": {},
   "outputs": [
    {
     "name": "stdout",
     "output_type": "stream",
     "text": [
      "🔹 Обробка чанка #1\n",
      "🔹 Обробка чанка #2\n",
      "🔹 Обробка чанка #3\n",
      "🔹 Обробка чанка #4\n",
      "🔹 Обробка чанка #5\n",
      "✅ Сабсет сформовано: 1000 рядків\n"
     ]
    },
    {
     "name": "stderr",
     "output_type": "stream",
     "text": [
      "C:\\Python\\Lib\\site-packages\\transformers\\models\\marian\\tokenization_marian.py:197: UserWarning: Recommended: pip install sacremoses.\n",
      "  warnings.warn(\"Recommended: pip install sacremoses.\")\n",
      "C:\\Python\\Lib\\site-packages\\transformers\\generation\\configuration_utils.py:444: UserWarning: `num_beams` is set to None - defaulting to 1.\n",
      "  warnings.warn(\"`num_beams` is set to None - defaulting to 1.\", UserWarning)\n"
     ]
    },
    {
     "name": "stdout",
     "output_type": "stream",
     "text": [
      "🔹 BLEU score (uk→en): 32.14\n"
     ]
    }
   ],
   "source": [
    "import os\n",
    "import random\n",
    "import pandas as pd\n",
    "import torch\n",
    "from transformers import MarianMTModel, MarianTokenizer\n",
    "from datasets import Dataset\n",
    "from evaluate import load as load_metric\n",
    "from itertools import islice\n",
    "\n",
    "# 📂 Параметри\n",
    "file_path = \"C:\\\\Users\\\\Andriy.Bespalyy\\\\Desktop\\\\en-uk_dataset.tsv\"\n",
    "sample_size = 1000\n",
    "chunk_size = 20_000\n",
    "max_chunks = 20\n",
    "\n",
    "# 📥 Сабсет з великим TSV-файлом\n",
    "samples = []\n",
    "reader = pd.read_csv(file_path, sep=\"\\t\", names=[\"en\", \"uk\"], quoting=3, chunksize=chunk_size, encoding=\"utf-8\")\n",
    "\n",
    "for i, chunk in enumerate(islice(reader, max_chunks)):\n",
    "    print(f\"🔹 Обробка чанка #{i+1}\")\n",
    "    chunk.dropna(inplace=True)\n",
    "    chunk = chunk[chunk[\"en\"].str.len().between(4, 256) & chunk[\"uk\"].str.len().between(4, 256)]\n",
    "    \n",
    "    if not chunk.empty:\n",
    "        n = min(len(chunk), sample_size // 5)\n",
    "        samples.append(chunk.sample(n=n, random_state=random.randint(0, 9999)))\n",
    "    \n",
    "    if sum(len(s) for s in samples) >= sample_size:\n",
    "        break\n",
    "\n",
    "# 🧾 Формування сабсету\n",
    "if samples:\n",
    "    df_sample = pd.concat(samples).sample(n=sample_size, random_state=42).reset_index(drop=True)\n",
    "    print(f\"✅ Сабсет сформовано: {len(df_sample)} рядків\")\n",
    "else:\n",
    "    raise RuntimeError(\"❌ Не знайдено валідних рядків.\")\n",
    "\n",
    "# 📦 Завантаження uk→en моделі\n",
    "model_path = \"C:\\\\Users\\\\Andriy.Bespalyy\\\\Desktop\\\\marianmt-uk-en-hplt-final\\\\marianmt-uk-en-hplt-final\"\n",
    "tokenizer = MarianTokenizer.from_pretrained(model_path)\n",
    "model = MarianMTModel.from_pretrained(model_path)\n",
    "\n",
    "# 📊 BLEU-метрика\n",
    "bleu = load_metric(\"sacrebleu\")\n",
    "\n",
    "# 📋 Dataset для HuggingFace\n",
    "dataset = Dataset.from_pandas(df_sample)\n",
    "\n",
    "# 🔁 Генерація перекладу (uk → en)\n",
    "predictions = []\n",
    "references = []\n",
    "\n",
    "for sample in dataset:\n",
    "    inputs = tokenizer(sample[\"uk\"], return_tensors=\"pt\", truncation=True, padding=True, max_length=128).to(model.device)\n",
    "    with torch.no_grad():\n",
    "        translated = model.generate(**inputs, max_length=128, num_beams=4)\n",
    "    pred_text = tokenizer.decode(translated[0], skip_special_tokens=True)\n",
    "    predictions.append(pred_text)\n",
    "    references.append([sample[\"en\"]])  # ✅ Порівнюємо з оригінальним англ. текстом\n",
    "\n",
    "# 📊 BLEU\n",
    "result = bleu.compute(predictions=predictions, references=references)\n",
    "print(f\"🔹 BLEU score (uk→en): {result['score']:.2f}\")\n"
   ]
  }
 ],
 "metadata": {
  "kernelspec": {
   "display_name": "Python 3 (ipykernel)",
   "language": "python",
   "name": "python3"
  },
  "language_info": {
   "codemirror_mode": {
    "name": "ipython",
    "version": 3
   },
   "file_extension": ".py",
   "mimetype": "text/x-python",
   "name": "python",
   "nbconvert_exporter": "python",
   "pygments_lexer": "ipython3",
   "version": "3.12.5"
  }
 },
 "nbformat": 4,
 "nbformat_minor": 5
}
