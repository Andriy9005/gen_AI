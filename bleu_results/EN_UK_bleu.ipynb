{
 "cells": [
  {
   "cell_type": "code",
   "execution_count": null,
   "id": "79fec7c1-0d69-41e0-b3d4-1550fdf8a1fd",
   "metadata": {},
   "outputs": [
    {
     "name": "stdout",
     "output_type": "stream",
     "text": [
      "🔹 Обробка чанка #1\n",
      "🔹 Обробка чанка #2\n",
      "🔹 Обробка чанка #3\n"
     ]
    }
   ],
   "source": [
    "import os\n",
    "import random\n",
    "import pandas as pd\n",
    "import torch\n",
    "from transformers import MarianMTModel, MarianTokenizer\n",
    "from datasets import Dataset\n",
    "from evaluate import load as load_metric\n",
    "\n",
    "import pandas as pd\n",
    "import random\n",
    "from itertools import islice\n",
    "\n",
    "file_path = \"C:\\\\Users\\\\Andriy.Bespalyy\\\\Desktop\\\\en-uk_dataset.tsv\"\n",
    "sample_size = 1000\n",
    "chunk_size = 20_000  # Більший чанк — менше ітерацій\n",
    "max_chunks = 20  # Не більше 20 спроб\n",
    "\n",
    "samples = []\n",
    "reader = pd.read_csv(file_path, sep=\"\\t\", names=[\"en\", \"uk\"], quoting=3, chunksize=chunk_size, encoding=\"utf-8\")\n",
    "\n",
    "for i, chunk in enumerate(islice(reader, max_chunks)):\n",
    "    print(f\"🔹 Обробка чанка #{i+1}\")\n",
    "    chunk.dropna(inplace=True)\n",
    "    chunk = chunk[chunk[\"en\"].str.len().between(4, 256) & chunk[\"uk\"].str.len().between(4, 256)]\n",
    "    \n",
    "    if not chunk.empty:\n",
    "        n = min(len(chunk), sample_size // 5)  # Візьмемо частину\n",
    "        samples.append(chunk.sample(n=n, random_state=random.randint(0, 9999)))\n",
    "    \n",
    "    if sum(len(s) for s in samples) >= sample_size:\n",
    "        break\n",
    "\n",
    "# Збір результату\n",
    "if samples:\n",
    "    df_sample = pd.concat(samples).sample(n=sample_size, random_state=42).reset_index(drop=True)\n",
    "    print(f\"✅ Сабсет сформовано: {len(df_sample)} рядків\")\n",
    "else:\n",
    "    print(\"❌ Не знайдено валідних рядків у перших чанках.\")\n",
    "\n",
    "# 📦 Завантаження моделі та токенізатора\n",
    "model_path = \"C://Users//Andriy.Bespalyy//Downloads//marianmt-en-uk-hplt-final//marianmt-en-uk-hplt-final\"\n",
    "tokenizer = MarianTokenizer.from_pretrained(model_path)\n",
    "model = MarianMTModel.from_pretrained(model_path)\n",
    "\n",
    "# 🧠 BLEU-метрика\n",
    "bleu = load_metric(\"sacrebleu\")\n",
    "\n",
    "# 🧾 Dataset із pandas\n",
    "dataset = Dataset.from_pandas(df_sample)\n",
    "\n",
    "# 🔁 Генерація перекладів\n",
    "predictions = []\n",
    "references = []\n",
    "\n",
    "for sample in dataset:\n",
    "    inputs = tokenizer(sample[\"en\"], return_tensors=\"pt\", truncation=True, padding=True, max_length=128).to(model.device)\n",
    "    with torch.no_grad():\n",
    "        translated = model.generate(**inputs, max_length=128, num_beams=4)\n",
    "    pred_text = tokenizer.decode(translated[0], skip_special_tokens=True)\n",
    "    predictions.append(pred_text)\n",
    "    references.append([sample[\"uk\"]])  # потрібен список списків\n",
    "\n",
    "# 📊 Обрахунок BLEU\n",
    "result = bleu.compute(predictions=predictions, references=references)\n",
    "print(f\"🔹 BLEU score: {result['score']:.2f}\")\n",
    "\n"
   ]
  },
  {
   "cell_type": "code",
   "execution_count": null,
   "id": "bc36777e-5b14-4b9a-8c98-75500b4e8691",
   "metadata": {},
   "outputs": [],
   "source": []
  }
 ],
 "metadata": {
  "kernelspec": {
   "display_name": "Python 3 (ipykernel)",
   "language": "python",
   "name": "python3"
  },
  "language_info": {
   "codemirror_mode": {
    "name": "ipython",
    "version": 3
   },
   "file_extension": ".py",
   "mimetype": "text/x-python",
   "name": "python",
   "nbconvert_exporter": "python",
   "pygments_lexer": "ipython3",
   "version": "3.12.5"
  }
 },
 "nbformat": 4,
 "nbformat_minor": 5
}
