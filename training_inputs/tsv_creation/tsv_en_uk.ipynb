{
 "cells": [
  {
   "cell_type": "code",
   "execution_count": 2,
   "id": "09cf54c0-2c3f-4862-a1f6-bcb47da2e4ce",
   "metadata": {},
   "outputs": [
    {
     "name": "stdout",
     "output_type": "stream",
     "text": [
      "✅ TSV збережено до: C:\\Users\\skyjet\\Downloads\\en-uk_dataset.tsv\n"
     ]
    }
   ],
   "source": [
    "en_path = r\"C:\\Users\\skyjet\\Downloads\\HPLT.en-uk.en\"\n",
    "uk_path = r\"C:\\Users\\skyjet\\Downloads\\HPLT.en-uk.uk\"\n",
    "out_path = r\"C:\\Users\\skyjet\\Downloads\\en-uk_dataset.tsv\"\n",
    "\n",
    "with open(en_path, 'r', encoding='utf-8') as f_en, \\\n",
    "     open(uk_path, 'r', encoding='utf-8') as f_uk, \\\n",
    "     open(out_path, 'w', encoding='utf-8') as f_out:\n",
    "\n",
    "    f_out.write(\"en\\tuk\\n\")  # заголовки\n",
    "\n",
    "    for en_line, uk_line in zip(f_en, f_uk):\n",
    "        en_line = en_line.strip()\n",
    "        uk_line = uk_line.strip()\n",
    "        f_out.write(f\"{en_line}\\t{uk_line}\\n\")\n",
    "\n",
    "print(f\"✅ TSV збережено до: {out_path}\")"
   ]
  }
 ],
 "metadata": {
  "kernelspec": {
   "display_name": "Python 3 (ipykernel)",
   "language": "python",
   "name": "python3"
  },
  "language_info": {
   "codemirror_mode": {
    "name": "ipython",
    "version": 3
   },
   "file_extension": ".py",
   "mimetype": "text/x-python",
   "name": "python",
   "nbconvert_exporter": "python",
   "pygments_lexer": "ipython3",
   "version": "3.12.6"
  }
 },
 "nbformat": 4,
 "nbformat_minor": 5
}
