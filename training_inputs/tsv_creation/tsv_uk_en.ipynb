{
 "cells": [
  {
   "cell_type": "code",
   "execution_count": 1,
   "id": "2173df80-5513-453b-b55d-f6f8f8591d82",
   "metadata": {},
   "outputs": [
    {
     "name": "stdout",
     "output_type": "stream",
     "text": [
      "✅ TSV збережено до: C:\\Users\\skyjet\\Downloads\\uk-en_dataset.tsv\n"
     ]
    }
   ],
   "source": [
    "# 🔄 Створення TSV для uk → en\n",
    "en_path = r\"C:\\Users\\skyjet\\Downloads\\HPLT.en-uk.en\"\n",
    "uk_path = r\"C:\\Users\\skyjet\\Downloads\\HPLT.en-uk.uk\"\n",
    "out_path = r\"C:\\Users\\skyjet\\Downloads\\uk-en_dataset.tsv\"\n",
    "\n",
    "with open(uk_path, 'r', encoding='utf-8') as f_uk, \\\n",
    "     open(en_path, 'r', encoding='utf-8') as f_en, \\\n",
    "     open(out_path, 'w', encoding='utf-8') as f_out:\n",
    "\n",
    "    f_out.write(\"uk\\ten\\n\")  # правильний заголовок: українська → англійська\n",
    "\n",
    "    for uk_line, en_line in zip(f_uk, f_en):\n",
    "        uk_line = uk_line.strip()\n",
    "        en_line = en_line.strip()\n",
    "        f_out.write(f\"{uk_line}\\t{en_line}\\n\")\n",
    "\n",
    "print(f\"✅ TSV збережено до: {out_path}\")\n"
   ]
  }
 ],
 "metadata": {
  "kernelspec": {
   "display_name": "Python 3 (ipykernel)",
   "language": "python",
   "name": "python3"
  },
  "language_info": {
   "codemirror_mode": {
    "name": "ipython",
    "version": 3
   },
   "file_extension": ".py",
   "mimetype": "text/x-python",
   "name": "python",
   "nbconvert_exporter": "python",
   "pygments_lexer": "ipython3",
   "version": "3.12.6"
  }
 },
 "nbformat": 4,
 "nbformat_minor": 5
}
